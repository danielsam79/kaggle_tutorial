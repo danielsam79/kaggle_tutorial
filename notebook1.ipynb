{
 "cells": [
  {
   "cell_type": "markdown",
   "id": "c79b4b83",
   "metadata": {
    "papermill": {
     "duration": 0.00575,
     "end_time": "2022-09-29T19:48:01.449436",
     "exception": false,
     "start_time": "2022-09-29T19:48:01.443686",
     "status": "completed"
    },
    "tags": []
   },
   "source": [
    "**This notebook is an exercise in the [Python](https://www.kaggle.com/learn/python) course.  You can reference the tutorial at [this link](https://www.kaggle.com/colinmorris/hello-python).**\n",
    "\n",
    "---\n"
   ]
  },
  {
   "cell_type": "markdown",
   "id": "9f4df7a8",
   "metadata": {
    "papermill": {
     "duration": 0.004865,
     "end_time": "2022-09-29T19:48:01.459530",
     "exception": false,
     "start_time": "2022-09-29T19:48:01.454665",
     "status": "completed"
    },
    "tags": []
   },
   "source": [
    "Welcome to your first set of Python coding problems.  If this is your first time using Kaggle Notebooks, welcome! \n",
    "\n",
    "Notebooks are composed of blocks (called \"cells\") of text and code. Each of these is editable, though you'll mainly be editing the code cells to answer some questions.\n",
    "\n",
    "To get started, try running the code cell below (by pressing the ► button, or clicking on the cell and pressing ctrl+enter on your keyboard)."
   ]
  },
  {
   "cell_type": "code",
   "execution_count": 1,
   "id": "e8003860",
   "metadata": {
    "execution": {
     "iopub.execute_input": "2022-09-29T19:48:01.471198Z",
     "iopub.status.busy": "2022-09-29T19:48:01.470835Z",
     "iopub.status.idle": "2022-09-29T19:48:01.479546Z",
     "shell.execute_reply": "2022-09-29T19:48:01.478710Z"
    },
    "papermill": {
     "duration": 0.017285,
     "end_time": "2022-09-29T19:48:01.481891",
     "exception": false,
     "start_time": "2022-09-29T19:48:01.464606",
     "status": "completed"
    },
    "tags": []
   },
   "outputs": [
    {
     "name": "stdout",
     "output_type": "stream",
     "text": [
      "You've successfully run some Python code\n",
      "Congratulations!\n"
     ]
    }
   ],
   "source": [
    "print(\"You've successfully run some Python code\")\n",
    "print(\"Congratulations!\")"
   ]
  },
  {
   "cell_type": "markdown",
   "id": "68012473",
   "metadata": {
    "papermill": {
     "duration": 0.004802,
     "end_time": "2022-09-29T19:48:01.492041",
     "exception": false,
     "start_time": "2022-09-29T19:48:01.487239",
     "status": "completed"
    },
    "tags": []
   },
   "source": [
    "Try adding another line of code in the cell above and re-running it. \n",
    "\n",
    "Now let's get a little fancier:  Add a new code cell by clicking on an existing code cell, hitting the escape key, and then hitting the `a` or `b` key.  The `a` key will add a cell above the current cell, and `b` adds a cell below.\n",
    "\n",
    "Great! Now you know how to use Notebooks.\n",
    "\n",
    "Each hands-on exercise starts by setting up our feedback and code checking mechanism. Run the code cell below to do that. Then you'll be ready to move on to question 0."
   ]
  },
  {
   "cell_type": "code",
   "execution_count": 2,
   "id": "24b66401",
   "metadata": {
    "_kg_hide-input": true,
    "_kg_hide-output": true,
    "execution": {
     "iopub.execute_input": "2022-09-29T19:48:01.503785Z",
     "iopub.status.busy": "2022-09-29T19:48:01.503500Z",
     "iopub.status.idle": "2022-09-29T19:48:01.542611Z",
     "shell.execute_reply": "2022-09-29T19:48:01.541647Z"
    },
    "papermill": {
     "duration": 0.04783,
     "end_time": "2022-09-29T19:48:01.544925",
     "exception": false,
     "start_time": "2022-09-29T19:48:01.497095",
     "status": "completed"
    },
    "tags": []
   },
   "outputs": [
    {
     "name": "stdout",
     "output_type": "stream",
     "text": [
      "Setup complete! You're ready to start question 0.\n"
     ]
    }
   ],
   "source": [
    "from learntools.core import binder; binder.bind(globals())\n",
    "from learntools.python.ex1 import *\n",
    "print(\"Setup complete! You're ready to start question 0.\")"
   ]
  },
  {
   "cell_type": "markdown",
   "id": "d341a0b0",
   "metadata": {
    "papermill": {
     "duration": 0.005017,
     "end_time": "2022-09-29T19:48:01.556501",
     "exception": false,
     "start_time": "2022-09-29T19:48:01.551484",
     "status": "completed"
    },
    "tags": []
   },
   "source": [
    "# 0.\n",
    "\n",
    "*This is a silly question intended as an introduction to the format we use for hands-on exercises throughout all Kaggle courses.*\n",
    "\n",
    "**What is your favorite color? **\n",
    "\n",
    "To complete this question, create a variable called `color` in the cell below with an appropriate value. The function call `q0.check()` (which we've already provided in the cell below) will check your answer."
   ]
  },
  {
   "cell_type": "code",
   "execution_count": 3,
   "id": "cf6ee53b",
   "metadata": {
    "execution": {
     "iopub.execute_input": "2022-09-29T19:48:01.567919Z",
     "iopub.status.busy": "2022-09-29T19:48:01.567604Z",
     "iopub.status.idle": "2022-09-29T19:48:01.575057Z",
     "shell.execute_reply": "2022-09-29T19:48:01.574545Z"
    },
    "papermill": {
     "duration": 0.014973,
     "end_time": "2022-09-29T19:48:01.576433",
     "exception": false,
     "start_time": "2022-09-29T19:48:01.561460",
     "status": "completed"
    },
    "tags": []
   },
   "outputs": [
    {
     "data": {
      "application/javascript": [
       "parent.postMessage({\"jupyterEvent\": \"custom.exercise_interaction\", \"data\": {\"outcomeType\": 1, \"valueTowardsCompletion\": 0.25, \"interactionType\": 1, \"questionType\": 2, \"questionId\": \"0_ExerciseFormatTutorial\", \"learnToolsVersion\": \"0.3.4\", \"failureMessage\": \"\", \"exceptionClass\": \"\", \"trace\": \"\"}}, \"*\")"
      ],
      "text/plain": [
       "<IPython.core.display.Javascript object>"
      ]
     },
     "metadata": {},
     "output_type": "display_data"
    },
    {
     "data": {
      "text/markdown": [
       "<span style=\"color:#33cc33\">Correct:</span> What?! You got it right without needing a hint or anything? Drats. Well hey, you should still continue to the next step to get some practice asking for a hint and checking solutions. (Even though you obviously don't need any help here.)"
      ],
      "text/plain": [
       "Correct: What?! You got it right without needing a hint or anything? Drats. Well hey, you should still continue to the next step to get some practice asking for a hint and checking solutions. (Even though you obviously don't need any help here.)"
      ]
     },
     "metadata": {},
     "output_type": "display_data"
    }
   ],
   "source": [
    "# create a variable called color with an appropriate value on the line below\n",
    "# (Remember, strings in Python must be enclosed in 'single' or \"double\" quotes)\n",
    "color = \"blue\"\n",
    "\n",
    "# Check your answer\n",
    "q0.check()"
   ]
  },
  {
   "cell_type": "markdown",
   "id": "1dc529dc",
   "metadata": {
    "papermill": {
     "duration": 0.004931,
     "end_time": "2022-09-29T19:48:01.586540",
     "exception": false,
     "start_time": "2022-09-29T19:48:01.581609",
     "status": "completed"
    },
    "tags": []
   },
   "source": [
    "Didn't get the right answer? How do you not even know your own favorite color?!\n",
    "\n",
    "Delete the `#` in the line below to make one of the lines run. You can choose between getting a hint or the full answer by choosing which line to remove the `#` from. \n",
    "\n",
    "Removing the `#` is called uncommenting, because it changes that line from a \"comment\" which Python doesn't run to code, which Python does run."
   ]
  },
  {
   "cell_type": "code",
   "execution_count": 4,
   "id": "3985569f",
   "metadata": {
    "execution": {
     "iopub.execute_input": "2022-09-29T19:48:01.598264Z",
     "iopub.status.busy": "2022-09-29T19:48:01.597943Z",
     "iopub.status.idle": "2022-09-29T19:48:01.601526Z",
     "shell.execute_reply": "2022-09-29T19:48:01.600727Z"
    },
    "papermill": {
     "duration": 0.011385,
     "end_time": "2022-09-29T19:48:01.603115",
     "exception": false,
     "start_time": "2022-09-29T19:48:01.591730",
     "status": "completed"
    },
    "tags": []
   },
   "outputs": [],
   "source": [
    "#q0.hint()\n",
    "#q0.solution()"
   ]
  },
  {
   "cell_type": "markdown",
   "id": "4b0e1755",
   "metadata": {
    "papermill": {
     "duration": 0.004972,
     "end_time": "2022-09-29T19:48:01.613968",
     "exception": false,
     "start_time": "2022-09-29T19:48:01.608996",
     "status": "completed"
    },
    "tags": []
   },
   "source": [
    "The upcoming questions work the same way. The only thing that will change are the question numbers. For the next question, you'll call `q1.check()`, `q1.hint()`, `q1.solution()`, for question 2, you'll call `q2.check()`, and so on."
   ]
  },
  {
   "cell_type": "markdown",
   "id": "61ab815f",
   "metadata": {
    "papermill": {
     "duration": 0.004953,
     "end_time": "2022-09-29T19:48:01.624043",
     "exception": false,
     "start_time": "2022-09-29T19:48:01.619090",
     "status": "completed"
    },
    "tags": []
   },
   "source": [
    "<hr/>\n",
    "\n",
    "# 1.\n",
    "\n",
    "Complete the code below. In case it's helpful, here is the table of available arithmetic operations:\n",
    "\n",
    "\n",
    "\n",
    "| Operator     | Name           | Description                                            |\n",
    "|--------------|----------------|--------------------------------------------------------|\n",
    "| ``a + b``    | Addition       | Sum of ``a`` and ``b``                                 |\n",
    "| ``a - b``    | Subtraction    | Difference of ``a`` and ``b``                          |\n",
    "| ``a * b``    | Multiplication | Product of ``a`` and ``b``                             |\n",
    "| ``a / b``    | True division  | Quotient of ``a`` and ``b``                            |\n",
    "| ``a // b``   | Floor division | Quotient of ``a`` and ``b``, removing fractional parts |\n",
    "| ``a % b``    | Modulus        | Integer remainder after division of ``a`` by ``b``     |\n",
    "| ``a ** b``   | Exponentiation | ``a`` raised to the power of ``b``                     |\n",
    "| ``-a``       | Negation       | The negative of ``a``                                  |\n",
    "\n",
    "<span style=\"display:none\"></span>\n"
   ]
  },
  {
   "cell_type": "code",
   "execution_count": 5,
   "id": "07a5efaf",
   "metadata": {
    "execution": {
     "iopub.execute_input": "2022-09-29T19:48:01.636297Z",
     "iopub.status.busy": "2022-09-29T19:48:01.635985Z",
     "iopub.status.idle": "2022-09-29T19:48:01.642657Z",
     "shell.execute_reply": "2022-09-29T19:48:01.642020Z"
    },
    "papermill": {
     "duration": 0.014436,
     "end_time": "2022-09-29T19:48:01.644277",
     "exception": false,
     "start_time": "2022-09-29T19:48:01.629841",
     "status": "completed"
    },
    "tags": []
   },
   "outputs": [
    {
     "data": {
      "application/javascript": [
       "parent.postMessage({\"jupyterEvent\": \"custom.exercise_interaction\", \"data\": {\"outcomeType\": 1, \"valueTowardsCompletion\": 0.25, \"interactionType\": 1, \"questionType\": 1, \"questionId\": \"1_CircleArea\", \"learnToolsVersion\": \"0.3.4\", \"failureMessage\": \"\", \"exceptionClass\": \"\", \"trace\": \"\"}}, \"*\")"
      ],
      "text/plain": [
       "<IPython.core.display.Javascript object>"
      ]
     },
     "metadata": {},
     "output_type": "display_data"
    },
    {
     "data": {
      "text/markdown": [
       "<span style=\"color:#33cc33\">Correct</span>"
      ],
      "text/plain": [
       "Correct"
      ]
     },
     "metadata": {},
     "output_type": "display_data"
    }
   ],
   "source": [
    "pi = 3.14159 # approximate\n",
    "diameter = 3\n",
    "\n",
    "# Create a variable called 'radius' equal to half the diameter\n",
    "radius = diameter /2\n",
    "\n",
    "# Create a variable called 'area', using the formula for the area of a circle: pi times the radius squared\n",
    "area = pi * (radius ** 2)\n",
    "\n",
    "# Check your answer\n",
    "q1.check()"
   ]
  },
  {
   "cell_type": "code",
   "execution_count": 6,
   "id": "71b64094",
   "metadata": {
    "execution": {
     "iopub.execute_input": "2022-09-29T19:48:01.657250Z",
     "iopub.status.busy": "2022-09-29T19:48:01.656940Z",
     "iopub.status.idle": "2022-09-29T19:48:01.660613Z",
     "shell.execute_reply": "2022-09-29T19:48:01.659559Z"
    },
    "papermill": {
     "duration": 0.011664,
     "end_time": "2022-09-29T19:48:01.662133",
     "exception": false,
     "start_time": "2022-09-29T19:48:01.650469",
     "status": "completed"
    },
    "tags": []
   },
   "outputs": [],
   "source": [
    "# Uncomment and run the lines below if you need help.\n",
    "#q1.hint()\n",
    "#q1.solution()"
   ]
  },
  {
   "cell_type": "markdown",
   "id": "fab50036",
   "metadata": {
    "papermill": {
     "duration": 0.005164,
     "end_time": "2022-09-29T19:48:01.672761",
     "exception": false,
     "start_time": "2022-09-29T19:48:01.667597",
     "status": "completed"
    },
    "tags": []
   },
   "source": [
    "<hr/>\n",
    "\n",
    "# 2.\n",
    "\n",
    "Add code to the following cell to swap variables `a` and `b` (so that `a` refers to the object previously referred to by `b` and vice versa)."
   ]
  },
  {
   "cell_type": "code",
   "execution_count": 7,
   "id": "9192d260",
   "metadata": {
    "execution": {
     "iopub.execute_input": "2022-09-29T19:48:01.684654Z",
     "iopub.status.busy": "2022-09-29T19:48:01.684339Z",
     "iopub.status.idle": "2022-09-29T19:48:01.691663Z",
     "shell.execute_reply": "2022-09-29T19:48:01.690799Z"
    },
    "papermill": {
     "duration": 0.015137,
     "end_time": "2022-09-29T19:48:01.693180",
     "exception": false,
     "start_time": "2022-09-29T19:48:01.678043",
     "status": "completed"
    },
    "tags": []
   },
   "outputs": [
    {
     "data": {
      "application/javascript": [
       "parent.postMessage({\"jupyterEvent\": \"custom.exercise_interaction\", \"data\": {\"outcomeType\": 1, \"valueTowardsCompletion\": 0.25, \"interactionType\": 1, \"questionType\": 2, \"questionId\": \"2_VariableSwap\", \"learnToolsVersion\": \"0.3.4\", \"failureMessage\": \"\", \"exceptionClass\": \"\", \"trace\": \"\"}}, \"*\")"
      ],
      "text/plain": [
       "<IPython.core.display.Javascript object>"
      ]
     },
     "metadata": {},
     "output_type": "display_data"
    },
    {
     "data": {
      "text/markdown": [
       "<span style=\"color:#33cc33\">Correct:</span> \n",
       "\n",
       "The most straightforward solution is to use a third variable to temporarily store one of the old values. e.g.:\n",
       "\n",
       "    tmp = a\n",
       "    a = b\n",
       "    b = tmp\n",
       "\n",
       "If you've read lots of Python code, you might have seen the following trick to swap two variables in one line:\n",
       "\n",
       "    a, b = b, a\n",
       "\n",
       "We'll demystify this bit of Python magic later when we talk about *tuples*."
      ],
      "text/plain": [
       "Correct: \n",
       "\n",
       "The most straightforward solution is to use a third variable to temporarily store one of the old values. e.g.:\n",
       "\n",
       "    tmp = a\n",
       "    a = b\n",
       "    b = tmp\n",
       "\n",
       "If you've read lots of Python code, you might have seen the following trick to swap two variables in one line:\n",
       "\n",
       "    a, b = b, a\n",
       "\n",
       "We'll demystify this bit of Python magic later when we talk about *tuples*."
      ]
     },
     "metadata": {},
     "output_type": "display_data"
    }
   ],
   "source": [
    "########### Setup code - don't touch this part ######################\n",
    "# If you're curious, these are examples of lists. We'll talk about \n",
    "# them in depth a few lessons from now. For now, just know that they're\n",
    "# yet another type of Python object, like int or float.\n",
    "a = [1, 2, 3]\n",
    "b = [3, 2, 1]\n",
    "q2.store_original_ids()\n",
    "######################################################################\n",
    "\n",
    "a, b = b, a\n",
    "\n",
    "######################################################################\n",
    "\n",
    "# Check your answer\n",
    "q2.check()"
   ]
  },
  {
   "cell_type": "code",
   "execution_count": 8,
   "id": "ba6a0a96",
   "metadata": {
    "execution": {
     "iopub.execute_input": "2022-09-29T19:48:01.705730Z",
     "iopub.status.busy": "2022-09-29T19:48:01.705395Z",
     "iopub.status.idle": "2022-09-29T19:48:01.709395Z",
     "shell.execute_reply": "2022-09-29T19:48:01.708595Z"
    },
    "papermill": {
     "duration": 0.012023,
     "end_time": "2022-09-29T19:48:01.710858",
     "exception": false,
     "start_time": "2022-09-29T19:48:01.698835",
     "status": "completed"
    },
    "tags": []
   },
   "outputs": [],
   "source": [
    "#q2.hint()"
   ]
  },
  {
   "cell_type": "code",
   "execution_count": 9,
   "id": "29950551",
   "metadata": {
    "execution": {
     "iopub.execute_input": "2022-09-29T19:48:01.723490Z",
     "iopub.status.busy": "2022-09-29T19:48:01.723183Z",
     "iopub.status.idle": "2022-09-29T19:48:01.726906Z",
     "shell.execute_reply": "2022-09-29T19:48:01.725819Z"
    },
    "papermill": {
     "duration": 0.012274,
     "end_time": "2022-09-29T19:48:01.728685",
     "exception": false,
     "start_time": "2022-09-29T19:48:01.716411",
     "status": "completed"
    },
    "tags": []
   },
   "outputs": [],
   "source": [
    "#q2.solution()"
   ]
  },
  {
   "cell_type": "markdown",
   "id": "57e50b45",
   "metadata": {
    "papermill": {
     "duration": 0.005327,
     "end_time": "2022-09-29T19:48:01.739652",
     "exception": false,
     "start_time": "2022-09-29T19:48:01.734325",
     "status": "completed"
    },
    "tags": []
   },
   "source": [
    "<hr/>\n",
    "\n",
    "# 3a.\n",
    "\n",
    "Add parentheses to the following expression so that it evaluates to 1."
   ]
  },
  {
   "cell_type": "code",
   "execution_count": 10,
   "id": "a8d3a8e5",
   "metadata": {
    "execution": {
     "iopub.execute_input": "2022-09-29T19:48:01.752327Z",
     "iopub.status.busy": "2022-09-29T19:48:01.752024Z",
     "iopub.status.idle": "2022-09-29T19:48:01.756789Z",
     "shell.execute_reply": "2022-09-29T19:48:01.755979Z"
    },
    "papermill": {
     "duration": 0.013035,
     "end_time": "2022-09-29T19:48:01.758191",
     "exception": false,
     "start_time": "2022-09-29T19:48:01.745156",
     "status": "completed"
    },
    "tags": []
   },
   "outputs": [
    {
     "data": {
      "text/plain": [
       "1"
      ]
     },
     "execution_count": 10,
     "metadata": {},
     "output_type": "execute_result"
    }
   ],
   "source": [
    "(5 - 3) // 2"
   ]
  },
  {
   "cell_type": "code",
   "execution_count": 11,
   "id": "5a9fe2e3",
   "metadata": {
    "execution": {
     "iopub.execute_input": "2022-09-29T19:48:01.771170Z",
     "iopub.status.busy": "2022-09-29T19:48:01.770873Z",
     "iopub.status.idle": "2022-09-29T19:48:01.774484Z",
     "shell.execute_reply": "2022-09-29T19:48:01.773661Z"
    },
    "papermill": {
     "duration": 0.012091,
     "end_time": "2022-09-29T19:48:01.776115",
     "exception": false,
     "start_time": "2022-09-29T19:48:01.764024",
     "status": "completed"
    },
    "tags": []
   },
   "outputs": [],
   "source": [
    "#q3.a.hint()"
   ]
  },
  {
   "cell_type": "code",
   "execution_count": 12,
   "id": "041ca8db",
   "metadata": {
    "execution": {
     "iopub.execute_input": "2022-09-29T19:48:01.789852Z",
     "iopub.status.busy": "2022-09-29T19:48:01.789532Z",
     "iopub.status.idle": "2022-09-29T19:48:01.796116Z",
     "shell.execute_reply": "2022-09-29T19:48:01.795559Z"
    },
    "papermill": {
     "duration": 0.014975,
     "end_time": "2022-09-29T19:48:01.797603",
     "exception": false,
     "start_time": "2022-09-29T19:48:01.782628",
     "status": "completed"
    },
    "tags": []
   },
   "outputs": [
    {
     "data": {
      "application/javascript": [
       "parent.postMessage({\"jupyterEvent\": \"custom.exercise_interaction\", \"data\": {\"interactionType\": 3, \"questionType\": 4, \"questionId\": \"3.1_ArithmeticParensEasy\", \"learnToolsVersion\": \"0.3.4\", \"valueTowardsCompletion\": 0.0, \"failureMessage\": \"\", \"exceptionClass\": \"\", \"trace\": \"\", \"outcomeType\": 4}}, \"*\")"
      ],
      "text/plain": [
       "<IPython.core.display.Javascript object>"
      ]
     },
     "metadata": {},
     "output_type": "display_data"
    },
    {
     "data": {
      "text/markdown": [
       "<span style=\"color:#33cc99\">Solution:</span> \n",
       "```python\n",
       "(5 - 3) // 2\n",
       "```"
      ],
      "text/plain": [
       "Solution: \n",
       "```python\n",
       "(5 - 3) // 2\n",
       "```"
      ]
     },
     "metadata": {},
     "output_type": "display_data"
    }
   ],
   "source": [
    "# Check your answer (Run this code cell to receive credit!)\n",
    "q3.a.solution()"
   ]
  },
  {
   "cell_type": "markdown",
   "id": "8552775f",
   "metadata": {
    "papermill": {
     "duration": 0.005878,
     "end_time": "2022-09-29T19:48:01.809924",
     "exception": false,
     "start_time": "2022-09-29T19:48:01.804046",
     "status": "completed"
    },
    "tags": []
   },
   "source": [
    "# 3b.  <span title=\"A bit spicy\" style=\"color: darkgreen \">🌶️</span>\n",
    "\n",
    "<small>Questions, like this one, marked a spicy pepper are a bit harder.</small>\n",
    "\n",
    "Add parentheses to the following expression so that it evaluates to 0."
   ]
  },
  {
   "cell_type": "code",
   "execution_count": 13,
   "id": "4afee76f",
   "metadata": {
    "execution": {
     "iopub.execute_input": "2022-09-29T19:48:01.824194Z",
     "iopub.status.busy": "2022-09-29T19:48:01.823913Z",
     "iopub.status.idle": "2022-09-29T19:48:01.830093Z",
     "shell.execute_reply": "2022-09-29T19:48:01.829170Z"
    },
    "papermill": {
     "duration": 0.015731,
     "end_time": "2022-09-29T19:48:01.831754",
     "exception": false,
     "start_time": "2022-09-29T19:48:01.816023",
     "status": "completed"
    },
    "tags": []
   },
   "outputs": [
    {
     "data": {
      "text/plain": [
       "0"
      ]
     },
     "execution_count": 13,
     "metadata": {},
     "output_type": "execute_result"
    }
   ],
   "source": [
    "8 - (3 * 2) - (1 + 1)"
   ]
  },
  {
   "cell_type": "code",
   "execution_count": 14,
   "id": "dbb41de2",
   "metadata": {
    "execution": {
     "iopub.execute_input": "2022-09-29T19:48:01.846217Z",
     "iopub.status.busy": "2022-09-29T19:48:01.845911Z",
     "iopub.status.idle": "2022-09-29T19:48:01.850577Z",
     "shell.execute_reply": "2022-09-29T19:48:01.849545Z"
    },
    "papermill": {
     "duration": 0.01444,
     "end_time": "2022-09-29T19:48:01.852760",
     "exception": false,
     "start_time": "2022-09-29T19:48:01.838320",
     "status": "completed"
    },
    "tags": []
   },
   "outputs": [],
   "source": [
    "#q3.b.hint()"
   ]
  },
  {
   "cell_type": "code",
   "execution_count": 15,
   "id": "733cba12",
   "metadata": {
    "execution": {
     "iopub.execute_input": "2022-09-29T19:48:01.867638Z",
     "iopub.status.busy": "2022-09-29T19:48:01.867309Z",
     "iopub.status.idle": "2022-09-29T19:48:01.875245Z",
     "shell.execute_reply": "2022-09-29T19:48:01.874305Z"
    },
    "papermill": {
     "duration": 0.017948,
     "end_time": "2022-09-29T19:48:01.877391",
     "exception": false,
     "start_time": "2022-09-29T19:48:01.859443",
     "status": "completed"
    },
    "tags": []
   },
   "outputs": [
    {
     "data": {
      "application/javascript": [
       "parent.postMessage({\"jupyterEvent\": \"custom.exercise_interaction\", \"data\": {\"interactionType\": 3, \"questionType\": 4, \"questionId\": \"3.2_ArithmeticParensHard\", \"learnToolsVersion\": \"0.3.4\", \"valueTowardsCompletion\": 0.0, \"failureMessage\": \"\", \"exceptionClass\": \"\", \"trace\": \"\", \"outcomeType\": 4}}, \"*\")"
      ],
      "text/plain": [
       "<IPython.core.display.Javascript object>"
      ]
     },
     "metadata": {},
     "output_type": "display_data"
    },
    {
     "data": {
      "text/markdown": [
       "<span style=\"color:#33cc99\">Solution:</span> `(8 - 3) * (2 - (1 + 1))` is one solution. There may be others."
      ],
      "text/plain": [
       "Solution: `(8 - 3) * (2 - (1 + 1))` is one solution. There may be others."
      ]
     },
     "metadata": {},
     "output_type": "display_data"
    }
   ],
   "source": [
    "# Check your answer (Run this code cell to receive credit!)\n",
    "q3.b.solution()"
   ]
  },
  {
   "cell_type": "markdown",
   "id": "e7c922f1",
   "metadata": {
    "papermill": {
     "duration": 0.006326,
     "end_time": "2022-09-29T19:48:01.890487",
     "exception": false,
     "start_time": "2022-09-29T19:48:01.884161",
     "status": "completed"
    },
    "tags": []
   },
   "source": [
    "<hr/>\n",
    "\n",
    "# 4. \n",
    "Alice, Bob and Carol have agreed to pool their Halloween candy and split it evenly among themselves.\n",
    "For the sake of their friendship, any candies left over will be smashed. For example, if they collectively\n",
    "bring home 91 candies, they'll take 30 each and smash 1.\n",
    "\n",
    "Write an arithmetic expression below to calculate how many candies they must smash for a given haul."
   ]
  },
  {
   "cell_type": "code",
   "execution_count": 16,
   "id": "d70bf8ff",
   "metadata": {
    "execution": {
     "iopub.execute_input": "2022-09-29T19:48:01.904989Z",
     "iopub.status.busy": "2022-09-29T19:48:01.904699Z",
     "iopub.status.idle": "2022-09-29T19:48:01.912413Z",
     "shell.execute_reply": "2022-09-29T19:48:01.911669Z"
    },
    "papermill": {
     "duration": 0.016865,
     "end_time": "2022-09-29T19:48:01.913992",
     "exception": false,
     "start_time": "2022-09-29T19:48:01.897127",
     "status": "completed"
    },
    "tags": []
   },
   "outputs": [
    {
     "data": {
      "application/javascript": [
       "parent.postMessage({\"jupyterEvent\": \"custom.exercise_interaction\", \"data\": {\"outcomeType\": 1, \"valueTowardsCompletion\": 0.25, \"interactionType\": 1, \"questionType\": 1, \"questionId\": \"4_CandySplitting\", \"learnToolsVersion\": \"0.3.4\", \"failureMessage\": \"\", \"exceptionClass\": \"\", \"trace\": \"\"}}, \"*\")"
      ],
      "text/plain": [
       "<IPython.core.display.Javascript object>"
      ]
     },
     "metadata": {},
     "output_type": "display_data"
    },
    {
     "data": {
      "text/markdown": [
       "<span style=\"color:#33cc33\">Correct</span>"
      ],
      "text/plain": [
       "Correct"
      ]
     },
     "metadata": {},
     "output_type": "display_data"
    }
   ],
   "source": [
    "# Variables representing the number of candies collected by alice, bob, and carol\n",
    "alice_candies = 121\n",
    "bob_candies = 77\n",
    "carol_candies = 109\n",
    "\n",
    "# Your code goes here! Replace the right-hand side of this assignment with an expression\n",
    "# involving alice_candies, bob_candies, and carol_candies\n",
    "to_smash = (alice_candies + bob_candies + carol_candies) % 3\n",
    "\n",
    "# Check your answer\n",
    "q4.check()"
   ]
  },
  {
   "cell_type": "code",
   "execution_count": 17,
   "id": "3d1191f7",
   "metadata": {
    "execution": {
     "iopub.execute_input": "2022-09-29T19:48:01.928331Z",
     "iopub.status.busy": "2022-09-29T19:48:01.928071Z",
     "iopub.status.idle": "2022-09-29T19:48:01.932031Z",
     "shell.execute_reply": "2022-09-29T19:48:01.931325Z"
    },
    "papermill": {
     "duration": 0.012865,
     "end_time": "2022-09-29T19:48:01.933641",
     "exception": false,
     "start_time": "2022-09-29T19:48:01.920776",
     "status": "completed"
    },
    "tags": []
   },
   "outputs": [],
   "source": [
    "#q4.hint()\n",
    "#q4.solution()"
   ]
  },
  {
   "cell_type": "markdown",
   "id": "24f7d61e",
   "metadata": {
    "papermill": {
     "duration": 0.00645,
     "end_time": "2022-09-29T19:48:01.946950",
     "exception": false,
     "start_time": "2022-09-29T19:48:01.940500",
     "status": "completed"
    },
    "tags": []
   },
   "source": [
    "# Keep Going\n",
    "\n",
    "Next up, you'll **[learn to write new functions and understand functions others write](https://www.kaggle.com/colinmorris/functions-and-getting-help)**. This will make you at least 10 times more productive as a Python programmer. "
   ]
  },
  {
   "cell_type": "markdown",
   "id": "4a26003c",
   "metadata": {
    "papermill": {
     "duration": 0.006401,
     "end_time": "2022-09-29T19:48:01.960075",
     "exception": false,
     "start_time": "2022-09-29T19:48:01.953674",
     "status": "completed"
    },
    "tags": []
   },
   "source": [
    "---\n",
    "\n",
    "\n",
    "\n",
    "\n",
    "*Have questions or comments? Visit the [course discussion forum](https://www.kaggle.com/learn/python/discussion) to chat with other learners.*"
   ]
  }
 ],
 "metadata": {
  "kernelspec": {
   "display_name": "Python 3",
   "language": "python",
   "name": "python3"
  },
  "language_info": {
   "codemirror_mode": {
    "name": "ipython",
    "version": 3
   },
   "file_extension": ".py",
   "mimetype": "text/x-python",
   "name": "python",
   "nbconvert_exporter": "python",
   "pygments_lexer": "ipython3",
   "version": "3.7.12"
  },
  "papermill": {
   "default_parameters": {},
   "duration": 7.840627,
   "end_time": "2022-09-29T19:48:02.485667",
   "environment_variables": {},
   "exception": null,
   "input_path": "__notebook__.ipynb",
   "output_path": "__notebook__.ipynb",
   "parameters": {},
   "start_time": "2022-09-29T19:47:54.645040",
   "version": "2.3.4"
  }
 },
 "nbformat": 4,
 "nbformat_minor": 5
}
